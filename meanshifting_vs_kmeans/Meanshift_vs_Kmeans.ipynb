{
 "cells": [
  {
   "cell_type": "code",
   "execution_count": 1,
   "id": "magnetic-hazard",
   "metadata": {},
   "outputs": [],
   "source": [
    "#import statements\n",
    "%matplotlib inline\n",
    "\n",
    "import matplotlib.pyplot as plt\n",
    "import seaborn as sns; sns.set()\n",
    "\n",
    "import numpy as np\n",
    "import pandas as pd\n",
    "\n",
    "from sklearn.ensemble import RandomForestClassifier\n",
    "from sklearn.cluster import KMeans\n",
    "from sklearn.neighbors import KNeighborsClassifier\n",
    "from sklearn.cluster import MeanShift\n",
    "\n",
    "import time\n",
    "import timeit \n",
    "import math\n",
    "from scipy.spatial import distance\n",
    "\n",
    "%load_ext line_profiler\n",
    "%load_ext memory_profiler"
   ]
  },
  {
   "cell_type": "code",
   "execution_count": 2,
   "id": "baking-samuel",
   "metadata": {},
   "outputs": [
    {
     "name": "stdout",
     "output_type": "stream",
     "text": [
      "                     rotten_tomatoes_link  \\\n",
      "0                              /m/0814255   \n",
      "1                              /m/0878835   \n",
      "2                                   /m/10   \n",
      "3                 /m/1000013-12_angry_men   \n",
      "4  /m/1000079-20000_leagues_under_the_sea   \n",
      "\n",
      "                                         movie_title  \\\n",
      "0  Percy Jackson & the Olympians: The Lightning T...   \n",
      "1                                        Please Give   \n",
      "2                                                 10   \n",
      "3                    12 Angry Men (Twelve Angry Men)   \n",
      "4                       20,000 Leagues Under The Sea   \n",
      "\n",
      "                                          movie_info  \\\n",
      "0  A teenager discovers he's the descendant of a ...   \n",
      "1  Kate has a lot on her mind. There's the ethics...   \n",
      "2  Blake Edwards' 10 stars Dudley Moore as George...   \n",
      "3  A Puerto Rican youth is on trial for murder, a...   \n",
      "4  This 1954 Disney version of Jules Verne's 20,0...   \n",
      "\n",
      "                                   critics_consensus  \\\n",
      "0  Though it may seem like just another Harry Pot...   \n",
      "1  Nicole Holofcener's newest might seem slight i...   \n",
      "2                                                NaN   \n",
      "3  Sidney Lumet's feature debut is a superbly wri...   \n",
      "4  One of Disney's finest live-action adventures,...   \n",
      "\n",
      "                                    poster_image_url rating  \\\n",
      "0  https://resizing.flixster.com/p1veUpQ4ktsSHtRu...     PG   \n",
      "1  https://resizing.flixster.com/0AbudQ4KsB4BeXSB...      R   \n",
      "2  https://resizing.flixster.com/mF0dxH6UTa0FdkMs...      R   \n",
      "3  https://resizing.flixster.com/u-8xAyGaDVvROLiR...     NR   \n",
      "4  https://resizing.flixster.com/FKExgYBHu07XLoil...      G   \n",
      "\n",
      "                                               genre          directors  \\\n",
      "0  Action & Adventure, Comedy, Drama, Science Fic...     Chris Columbus   \n",
      "1                                             Comedy  Nicole Holofcener   \n",
      "2                                    Comedy, Romance      Blake Edwards   \n",
      "3                                    Classics, Drama       Sidney Lumet   \n",
      "4           Action & Adventure, Drama, Kids & Family  Richard Fleischer   \n",
      "\n",
      "             writers                                               cast  ...  \\\n",
      "0       Craig Titley  Logan Lerman, Brandon T. Jackson, Alexandra Da...  ...   \n",
      "1  Nicole Holofcener  Catherine Keener, Amanda Peet, Oliver Platt, R...  ...   \n",
      "2      Blake Edwards  Dudley Moore, Bo Derek, Julie Andrews, Robert ...  ...   \n",
      "3      Reginald Rose  Martin Balsam, John Fiedler, Lee J. Cobb, E.G....  ...   \n",
      "4        Earl Felton  James Mason, Kirk Douglas, Paul Lukas, Peter L...  ...   \n",
      "\n",
      "              studio_name tomatometer_status  tomatometer_rating  \\\n",
      "0        20th Century Fox             Rotten                  49   \n",
      "1  Sony Pictures Classics    Certified Fresh                  86   \n",
      "2             Waner Bros.              Fresh                  68   \n",
      "3    Criterion Collection    Certified Fresh                 100   \n",
      "4                  Disney              Fresh                  89   \n",
      "\n",
      "  tomatometer_count audience_status  audience_rating  audience_count  \\\n",
      "0               144         Spilled             53.0        254287.0   \n",
      "1               140         Upright             64.0         11567.0   \n",
      "2                22         Spilled             53.0         14670.0   \n",
      "3                51         Upright             97.0        105000.0   \n",
      "4                27         Upright             74.0         68860.0   \n",
      "\n",
      "  audience_top_critics_count  audience_fresh_critics_count  \\\n",
      "0                         38                            71   \n",
      "1                         43                           121   \n",
      "2                          2                            15   \n",
      "3                          6                            51   \n",
      "4                          5                            24   \n",
      "\n",
      "   audience_rotten_critics_count  \n",
      "0                             73  \n",
      "1                             19  \n",
      "2                              7  \n",
      "3                              0  \n",
      "4                              3  \n",
      "\n",
      "[5 rows x 23 columns]\n"
     ]
    }
   ],
   "source": [
    "rotten = pd.read_csv(\"rotten_tomatoes_movies_Mark.csv\", sep=',')\n",
    "print(rotten.head())"
   ]
  },
  {
   "cell_type": "code",
   "execution_count": 3,
   "id": "mighty-passage",
   "metadata": {},
   "outputs": [
    {
     "data": {
      "text/plain": [
       "<matplotlib.collections.PathCollection at 0x1f8acbdbf10>"
      ]
     },
     "execution_count": 3,
     "metadata": {},
     "output_type": "execute_result"
    },
    {
     "data": {
      "image/png": "[encoded data removed]",
      "text/plain": [
       "<Figure size 432x288 with 1 Axes>"
      ]
     },
     "metadata": {},
     "output_type": "display_data"
    }
   ],
   "source": [
    "plt.scatter(rotten[\"audience_rating\"], rotten[\"audience_count\"], s=50, cmap=\"spring\")"
   ]
  },
  {
   "cell_type": "code",
   "execution_count": 4,
   "id": "julian-emphasis",
   "metadata": {},
   "outputs": [],
   "source": [
    "#make mean shifting function\n",
    "\n",
    "\n",
    "def meanshifting(groupdata_np, r, flag, rate):\n",
    "    #groupdata is all the point in a single group\n",
    "    #r is the radius of the window\n",
    "    \n",
    "    \n",
    "    #starting center\n",
    "    \n",
    "    \n",
    "    rows = groupdata_np.shape[0]\n",
    "    index = np.random.choice(rows, size=1, replace=False) \n",
    "    center = groupdata_np[index[0],:]\n",
    " \n",
    "    \n",
    "    \n",
    "    center_np = np.zeros((2000, 2))\n",
    "    center_np[0,:] = center\n",
    "   \n",
    "    \n",
    "    #looping through the process a set number of times\n",
    "    for val in range(2000):\n",
    "        \n",
    "        #calculating distances between center point and other points and placing them in new group\n",
    "        \n",
    "        close_groupx = []\n",
    "        close_groupy = []\n",
    "        \n",
    "        \n",
    "        \n",
    "        #looping through num of data points\n",
    "        \n",
    "        for ind in range(len(groupdata_np[:,0])):\n",
    "            #finding dists and sorting ones closest\n",
    "           \n",
    "            a = center[0] - groupdata_np[ind, 0]\n",
    "            b = center[1] - groupdata_np[ind, 1]\n",
    "            \n",
    "          \n",
    "            dist = math.sqrt((a**2) + (b**2))\n",
    "          \n",
    "            if dist <= r:\n",
    "                close_groupx.append(groupdata_np[ind,0])\n",
    "                close_groupy.append(groupdata_np[ind,1])\n",
    "                \n",
    "       \n",
    "        close_group_mean = np.zeros(2)        \n",
    "        close_group_mean[0] = np.mean(close_groupx)                       \n",
    "        close_group_mean[1] = np.mean(close_groupy)\n",
    "        \n",
    "      \n",
    "        if close_group_mean[0] == center[0] and close_group_mean[1] == center[1]:\n",
    "            break\n",
    "            \n",
    "        center = close_group_mean\n",
    "        center_np[val,:] = center\n",
    "        \n",
    "        \n",
    "        if flag == True:\n",
    "            r = r * rate\n",
    "   \n",
    "    return [center, center_np]\n",
    "\n",
    "def meanshifting_clustering(groupdata_np, r, flag, rate, times):\n",
    "\n",
    "    centers = []\n",
    "    for val in range(times):\n",
    "        output = meanshifting(groupdata_np, r, flag, rate)\n",
    "        centers.append(output[0])\n",
    "      \n",
    "    #delete duplicates\n",
    "   \n",
    "    ind = 0\n",
    "    \n",
    "    while ind < (len(centers)-1):\n",
    "  \n",
    "        center = centers[ind]\n",
    "        \n",
    "        for val in centers[ind+1:]:\n",
    "            if val[0] == center[0] and val[1] == center[1]:\n",
    "                centers = centers[:ind] + centers[ind+1:]\n",
    "                ind = ind - 1\n",
    "                break\n",
    "                \n",
    "        ind = ind + 1\n",
    "        \n",
    "        \n",
    "    return centers\n",
    "\n",
    "\n",
    "\n"
   ]
  },
  {
   "cell_type": "code",
   "execution_count": 5,
   "id": "manufactured-dress",
   "metadata": {},
   "outputs": [],
   "source": [
    "rotten = rotten.loc[:, [\"audience_rating\", \"audience_count\"]]\n",
    "rotten_1 = rotten.to_numpy()\n",
    "rotten_np = rotten_1[:,:].astype(int)\n",
    "\n",
    "\n",
    "#deleting all the 0s in the dataset (nas)\n",
    "to_delete = []\n",
    "\n",
    "for val in range(len(rotten_np[:,0])):\n",
    "    if rotten_np[val,0] <= 0 or rotten_np[val,1] <= 0:\n",
    "        to_delete.append(val)\n",
    "  \n",
    "rotten_np = np.delete(rotten_np, to_delete, 0)\n"
   ]
  },
  {
   "cell_type": "code",
   "execution_count": 6,
   "id": "continental-services",
   "metadata": {},
   "outputs": [],
   "source": [
    "#scaling the variables\n",
    "rating = rotten_np[:,0]\n",
    "mx = np.max(rating)\n",
    "mn = np.min(rating)\n",
    "\n",
    "\n",
    "rating_norm = (rating - mn)/(mx - mn)\n",
    "rating_norm = np.around(rating_norm, decimals = 2) \n",
    "\n",
    "count = rotten_np[:,1]\n",
    "mx = np.max(count)\n",
    "mn = np.min(count)\n",
    "\n",
    "count_norm = (count - mn)/(mx - mn)\n",
    "count_norm = np.around(count_norm, decimals = 2) \n",
    "\n",
    "\n",
    "rotten_norm = np.stack((rating_norm, count_norm),axis=1)\n",
    "\n"
   ]
  },
  {
   "cell_type": "markdown",
   "id": "reliable-louisiana",
   "metadata": {},
   "source": [
    "# sklearn's Built-in KMeans Clustering Algorithm"
   ]
  },
  {
   "cell_type": "code",
   "execution_count": 7,
   "id": "complete-recommendation",
   "metadata": {},
   "outputs": [
    {
     "name": "stdout",
     "output_type": "stream",
     "text": [
      "This took 0.15257048606872559 seconds to run\n",
      "[[6.04735166e+01 5.23304495e+04]\n",
      " [6.56400000e+01 3.28784578e+07]]\n"
     ]
    }
   ],
   "source": [
    "\n",
    "# Start the timer: \n",
    "start_time = time.time()\n",
    "\n",
    "# Specify and fit the model\n",
    "km_alg_rotten = KMeans(n_clusters=2, init=\"random\",random_state = 200, max_iter = 200)\n",
    "fit_rotten = km_alg_rotten.fit(rotten_np)\n",
    "\n",
    "# Stop the clock and determine the length of time\n",
    "stop_time = time.time()\n",
    "\n",
    "print(\"This took %s seconds to run\" % (stop_time-start_time))\n",
    "\n",
    "km_labels_rotten = fit_rotten.labels_\n",
    "km_centers_rotten = fit_rotten.cluster_centers_\n",
    "\n",
    "print(km_centers_rotten)"
   ]
  },
  {
   "cell_type": "code",
   "execution_count": 8,
   "id": "compact-package",
   "metadata": {},
   "outputs": [
    {
     "data": {
      "image/png": "[encoded data removed]",
      "text/plain": [
       "<Figure size 432x288 with 1 Axes>"
      ]
     },
     "metadata": {},
     "output_type": "display_data"
    }
   ],
   "source": [
    "\n",
    "plt.scatter(rotten_np[:,0], rotten_np[:,1])\n",
    "plt.scatter(km_centers_rotten[0][0], km_centers_rotten[0][1], c='black', marker=\"x\", s=200, alpha=0.75)\n",
    "plt.scatter(km_centers_rotten[1][0], km_centers_rotten[1][1], c='black', marker=\"x\", s=200, alpha=0.75)\n",
    "plt.show()"
   ]
  },
  {
   "cell_type": "markdown",
   "id": "abstract-jordan",
   "metadata": {},
   "source": [
    "# sklearn's Built-in Meanshifting Clustering Algorithm"
   ]
  },
  {
   "cell_type": "code",
   "execution_count": 9,
   "id": "clear-taste",
   "metadata": {},
   "outputs": [
    {
     "name": "stdout",
     "output_type": "stream",
     "text": [
      "This took 636.8672199249268 seconds to run\n",
      "[[0.69787426 0.00127158]\n",
      " [0.61804878 0.91682927]]\n",
      "2\n"
     ]
    }
   ],
   "source": [
    "#attempts use meanshift with scaled data\n",
    "\n",
    "\n",
    "# Start the timer: \n",
    "start_time = time.time()\n",
    "\n",
    "# Specify and fit the model\n",
    "ms = MeanShift(bandwidth = 0.20)\n",
    "ms.fit(rotten_norm)\n",
    "\n",
    "# Stop the clock and determine the length of time\n",
    "stop_time = time.time()\n",
    "\n",
    "print(\"This took %s seconds to run\" % (stop_time-start_time))\n",
    "\n",
    "\n",
    "labels = ms.labels_\n",
    "cluster_centers = ms.cluster_centers_\n",
    "print(cluster_centers)\n",
    "print(len(cluster_centers))\n",
    "\n",
    "\n"
   ]
  },
  {
   "cell_type": "code",
   "execution_count": 10,
   "id": "vocal-warning",
   "metadata": {},
   "outputs": [
    {
     "data": {
      "image/png": "[encoded data removed]",
      "text/plain": [
       "<Figure size 432x288 with 1 Axes>"
      ]
     },
     "metadata": {},
     "output_type": "display_data"
    }
   ],
   "source": [
    "plt.scatter(rotten_norm[:,0], rotten_norm[:,1], c = labels)\n",
    "plt.scatter(cluster_centers[0][0], cluster_centers[0][1], c='black', marker=\"x\", s=200, alpha=0.75)\n",
    "plt.scatter(cluster_centers[1][0], cluster_centers[1][1], c='black', marker=\"x\", s=200, alpha=0.75)\n",
    "plt.show()"
   ]
  },
  {
   "cell_type": "markdown",
   "id": "accepting-conversation",
   "metadata": {},
   "source": [
    "# My Meanshifting Clustering Algorithm"
   ]
  },
  {
   "cell_type": "code",
   "execution_count": 17,
   "id": "younger-mention",
   "metadata": {},
   "outputs": [],
   "source": [
    "#time analysis for meanshift clustering\n",
    "\n",
    "%lprun -f meanshifting_clustering meanshifting_clustering(rotten_norm, 0.2, False, 0, 10)\n",
    "\n"
   ]
  },
  {
   "cell_type": "code",
   "execution_count": 12,
   "id": "married-brunei",
   "metadata": {},
   "outputs": [
    {
     "name": "stdout",
     "output_type": "stream",
     "text": [
      "peak memory: 161.82 MiB, increment: 0.02 MiB\n"
     ]
    }
   ],
   "source": [
    "#memory analysis for meanshift clustering\n",
    "\n",
    "%memit meanshifting_clustering(rotten_norm, 0.2, False, 0, 10)\n"
   ]
  },
  {
   "cell_type": "code",
   "execution_count": 13,
   "id": "royal-fifteen",
   "metadata": {},
   "outputs": [],
   "source": [
    "#time analysis for meanshifting\n",
    "\n",
    "%lprun -f meanshifting meanshifting(rotten_norm, 0.2, False, 0)\n"
   ]
  },
  {
   "cell_type": "code",
   "execution_count": 14,
   "id": "personal-microwave",
   "metadata": {},
   "outputs": [
    {
     "name": "stdout",
     "output_type": "stream",
     "text": [
      "peak memory: 161.85 MiB, increment: 0.01 MiB\n"
     ]
    }
   ],
   "source": [
    "#memory analysis for meanshift clustering\n",
    "\n",
    "%memit meanshifting(rotten_norm, 0.2, False, 0)\n"
   ]
  },
  {
   "cell_type": "code",
   "execution_count": 15,
   "id": "recovered-electric",
   "metadata": {},
   "outputs": [
    {
     "name": "stdout",
     "output_type": "stream",
     "text": [
      "[array([0.68834638, 0.00124682]), array([0.72216387, 0.00133209]), array([0.67856664, 0.00124848])]\n"
     ]
    }
   ],
   "source": [
    "ms_centers = meanshifting_clustering(rotten_norm, 0.2, False, 0, 10)\n",
    "print(ms_centers)"
   ]
  },
  {
   "cell_type": "code",
   "execution_count": 16,
   "id": "stuck-geometry",
   "metadata": {
    "scrolled": true
   },
   "outputs": [
    {
     "data": {
      "image/png": "[encoded data removed]",
      "text/plain": [
       "<Figure size 432x288 with 1 Axes>"
      ]
     },
     "metadata": {},
     "output_type": "display_data"
    }
   ],
   "source": [
    "\n",
    "plt.scatter(rotten_norm[:,0], rotten_norm[:,1])\n",
    "plt.show()"
   ]
  }
 ],
 "metadata": {
  "kernelspec": {
   "display_name": "Python 3",
   "language": "python",
   "name": "python3"
  },
  "language_info": {
   "codemirror_mode": {
    "name": "ipython",
    "version": 3
   },
   "file_extension": ".py",
   "mimetype": "text/x-python",
   "name": "python",
   "nbconvert_exporter": "python",
   "pygments_lexer": "ipython3",
   "version": "3.8.5"
  }
 },
 "nbformat": 4,
 "nbformat_minor": 5
}
